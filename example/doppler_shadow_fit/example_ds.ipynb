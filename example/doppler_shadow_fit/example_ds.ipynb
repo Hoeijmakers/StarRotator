{
 "cells": [
  {
   "cell_type": "code",
   "execution_count": 1,
   "id": "2b66b9ae-1bad-45db-8653-fed3e518a010",
   "metadata": {},
   "outputs": [],
   "source": [
    "import numpy as np\n",
    "import matplotlib.pyplot as plt\n",
    "from pymultinest import solve\n",
    "\n",
    "\n",
    "# this may look different, depending on where you run this notebook :)\n",
    "import lib.fitting as RM\n",
    "\n",
    "\n",
    "#plt.rcParams.update({'font.size': 16})\n",
    "plt.rc('font', size=12)          # controls default text sizes\n",
    "#plt.rc('axes', titlesize=SMALL_SIZE)     # fontsize of the axes title\n",
    "plt.rc('axes', labelsize=15)    # fontsize of the x and y labels\n",
    "plt.rc('xtick', labelsize=15)    # fontsize of the tick labels\n",
    "plt.rc('ytick', labelsize=15)    # fontsize of the tick labels\n",
    "plt.rc('legend', fontsize=16)    # legend fontsize\n",
    "#plt.rc('figure', titlesize=BIGGER_SIZE)  # fontsize of the figure title\n",
    "plt.rcParams[\"xtick.direction\"] = \"in\"\n",
    "plt.rcParams[\"ytick.direction\"] = \"in\"\n",
    "plt.rcParams[\"ytick.major.width\"] = 2\n",
    "plt.rcParams[\"xtick.major.width\"] = 2\n",
    "plt.rcParams[\"xtick.major.size\"] = 5\n",
    "plt.rcParams[\"ytick.major.size\"] = 5\n",
    "plt.rcParams[\"xtick.minor.size\"] = 3.5\n",
    "plt.rcParams[\"ytick.minor.size\"] = 3.5\n",
    "#print(plt.rcParams.keys())\n",
    "plt.rcParams[\"ytick.minor.width\"] = 1\n",
    "plt.rcParams[\"xtick.minor.width\"] = 1\n",
    "plt.rcParams['axes.linewidth'] = 2\n",
    "plt.rcParams['legend.facecolor'] = 'white'\n",
    "plt.rcParams['legend.edgecolor'] = 'white'\n",
    "plt.rcParams['legend.framealpha'] = 1"
   ]
  },
  {
   "cell_type": "code",
   "execution_count": 2,
   "id": "f4dcda9f-93ba-48f7-86b7-484367bd8703",
   "metadata": {},
   "outputs": [],
   "source": [
    "input_path = 'ExampleData/'\n",
    "\n",
    "# fixed parameters \n",
    "aRs = 4.587\n",
    "orbinc = 84.03 # in degrees\n",
    "vsys = -24.83 # in km/s\n",
    "u1 = 0.414\n",
    "u2 = 0.15\n",
    "gridsize = 50 # this produces a 100x100 grid for the stellar surface. The larger the grid, the slower the code \n",
    "\n",
    "# ground truth: This is what the fit should yield :) \n",
    "projected_obl = 70. # degrees\n",
    "RpRs = 0.06\n",
    "vsini = 100. # km/s\n",
    "amp = 0.9\n",
    "width = 4 # km/s\n",
    "\n",
    "# load example data\n",
    "RV = np.load(input_path+'RV.npy') \n",
    "phases = np.load(input_path+'orbital_phases.npy')\n",
    "fake_data = np.load(input_path+'example_data.npy')\n",
    "fake_data_err = np.load(input_path+'example_data_err.npy')"
   ]
  },
  {
   "cell_type": "code",
   "execution_count": 3,
   "id": "9742eeca-0544-461c-b558-1c5ce0d52ec1",
   "metadata": {},
   "outputs": [],
   "source": [
    "# Generating your flux grid based on limb darkening (quadratic) + your gridsize\n",
    "\n",
    "xx, yy, flux_grid = RM.generate_flux_grid(\n",
    "    u1=u1, \n",
    "    u2=u2, \n",
    "    gridsize=gridsize\n",
    ")"
   ]
  },
  {
   "cell_type": "code",
   "execution_count": null,
   "id": "f76400a5-82bf-4ca2-a15a-6ce8a64ba686",
   "metadata": {},
   "outputs": [],
   "source": [
    "# plot example\n",
    "plt.pcolormesh(RV, phases, fake_data)\n",
    "plt.xlabel('RV [km/s]')\n",
    "plt.ylabel('Orbital phase')"
   ]
  },
  {
   "cell_type": "code",
   "execution_count": 8,
   "id": "0c2999a5-6dae-4aa8-b575-25d3a0c8e62b",
   "metadata": {},
   "outputs": [
    {
     "name": "stdout",
     "output_type": "stream",
     "text": [
      "--- [INFO] removing results_pymultinest/test1phys_live.points\n",
      "--- [INFO] removing results_pymultinest/test1resume.dat\n",
      "--- [INFO] removing results_pymultinest/test1IS.points\n",
      "--- [INFO] removing results_pymultinest/test1stats.dat\n",
      "--- [INFO] removing results_pymultinest/test1stats.json\n",
      "--- [INFO] removing results_pymultinest/test1IS.ptprob\n",
      "--- [INFO] removing results_pymultinest/test1.txt\n",
      "--- [INFO] removing results_pymultinest/test1summary.txt\n",
      "--- [INFO] removing results_pymultinest/test1post_equal_weights.dat\n",
      "--- [INFO] removing results_pymultinest/test1live.points\n",
      "--- [INFO] removing results_pymultinest/test1corner.png\n",
      "--- [INFO] removing results_pymultinest/test1params.json\n",
      "--- [INFO] removing results_pymultinest/test1IS.iterinfo\n",
      "--- [INFO] removing results_pymultinest/test1corner.pdf\n",
      "--- [INFO] removing results_pymultinest/test1ev.dat\n",
      "--- [INFO] Writing results_pymultinest/test1params.json \n"
     ]
    }
   ],
   "source": [
    "init_limits = [65., 80.],[0.05,0.07],[95.,105.],[-1, 1],[1., 10.]\n",
    "parameters = [\"lambda\", \"RpRs\", \"vsini\", \"amp\", 'width']\n",
    "output = 'results_pymultinest/test1'\n",
    "mode='run' # can also be resume, run\n",
    "\n",
    "if mode=='run':\n",
    "    RM.remove_output(output)\n",
    "    RM.write_json(output, parameters)"
   ]
  },
  {
   "cell_type": "code",
   "execution_count": null,
   "id": "3c44b052-95ba-4217-98dd-352e9dc8b900",
   "metadata": {},
   "outputs": [
    {
     "name": "stdout",
     "output_type": "stream",
     "text": [
      " MultiNest Warning: no resume file found, starting from scratch\n",
      " *****************************************************\n",
      " MultiNest v3.10\n",
      " Copyright Farhan Feroz & Mike Hobson\n",
      " Release Jul 2015\n",
      "\n",
      " no. of live points =  500\n",
      " dimensionality =    5\n",
      " *****************************************************\n"
     ]
    }
   ],
   "source": [
    "my_model = RM.DopplerShadow(\n",
    "    # self,logL,prior,ndim,data,errdata,radial_velocity,phases,xx,yy,flux_grid,orbinc,aRs,vsys \n",
    "    logL = RM.compute_likelihood,\n",
    "    prior = RM.uniform_prior,\n",
    "    ndim = len(parameters),\n",
    "    init_limits=init_limits,\n",
    "    data = fake_data,\n",
    "    errdata = fake_data_err,\n",
    "    radial_velocity = RV,\n",
    "    phases = phases, \n",
    "    xx = xx,\n",
    "    yy = yy,\n",
    "    flux_grid = flux_grid,\n",
    "    orbinc = orbinc,\n",
    "    aRs = aRs,\n",
    "    vsys = vsys\n",
    ")\n",
    "\n",
    "\n",
    "result = solve(\n",
    "    \n",
    "    LogLikelihood = my_model.cpte_logL, # Gaussian!\n",
    "    Prior = my_model.cpte_prior,\n",
    "    n_dims = my_model.ndim, \n",
    "    outputfiles_basename = output,\n",
    "    n_live_points=  500, \n",
    "    #dump_callback = True\n",
    "\n",
    ")\n",
    "\n",
    "print('evidence: %(logZ).1f +- %(logZerr).1f' % result)\n",
    "print('parameter values:')\n",
    "\n",
    "for name, col in zip(parameters, result['samples'].transpose()):\n",
    "    print('%15s : %.6f +- %.6f' % (name, col.mean(), col.std()))"
   ]
  },
  {
   "cell_type": "code",
   "execution_count": null,
   "id": "1d71e722-b93a-49ac-97e5-4cbc6af26455",
   "metadata": {},
   "outputs": [],
   "source": [
    "RM.multinest_marginals_corner(output)"
   ]
  },
  {
   "cell_type": "code",
   "execution_count": null,
   "id": "5fe3e9ad-de7c-40f8-9aaa-9e971177fc50",
   "metadata": {},
   "outputs": [],
   "source": []
  }
 ],
 "metadata": {
  "kernelspec": {
   "display_name": "Python 3 (ipykernel)",
   "language": "python",
   "name": "python3"
  },
  "language_info": {
   "codemirror_mode": {
    "name": "ipython",
    "version": 3
   },
   "file_extension": ".py",
   "mimetype": "text/x-python",
   "name": "python",
   "nbconvert_exporter": "python",
   "pygments_lexer": "ipython3",
   "version": "3.8.10"
  }
 },
 "nbformat": 4,
 "nbformat_minor": 5
}
